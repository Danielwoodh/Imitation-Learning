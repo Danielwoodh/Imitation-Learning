{
 "cells": [
  {
   "cell_type": "markdown",
   "metadata": {},
   "source": [
    "# Imitation Learning - Sim\n",
    "\n",
    "This notebook outlines the work undertaken as part of the MSc Robotics Thesis at Cranfield University. The notebook constructs a context-adaptation model that can generalise between multiple viewing angles of a task, based on the work of: *Y. Liu et. Al, Learning to Imitate Behaviors from Raw Video\n",
    "via Context Translation*.\n",
    "\n",
    "This notebook outlines the process in Simulation, using real-world data."
   ]
  },
  {
   "cell_type": "code",
   "execution_count": 5,
   "metadata": {
    "scrolled": true
   },
   "outputs": [],
   "source": [
    "from __future__ import print_function\n",
    "import numpy as np\n",
    "import matplotlib.pyplot as plt\n",
    "import tensorflow.compat.v1 as tf\n",
    "tf.disable_v2_behavior()\n",
    "from tensorflow.io import gfile\n",
    "import imageio\n",
    "import pickle\n",
    "import PIL\n",
    "import PIL.Image as Image\n",
    "import scipy.misc\n",
    "import sys\n",
    "import skvideo\n",
    "import skvideo.io\n",
    "from IPython.display import HTML\n",
    "import imageio\n",
    "from tensorflow.python.framework import ops\n",
    "%matplotlib inline"
   ]
  },
  {
   "cell_type": "markdown",
   "metadata": {},
   "source": [
    "---\n",
    "## Loading Data\n",
    "\n",
    "This section loads in the dataset that was constructed, resizing the videos to ensure they are consistent. A transformation is applied to the raw footage, to facilitate the performance of the model."
   ]
  },
  {
   "cell_type": "code",
   "execution_count": 6,
   "metadata": {},
   "outputs": [],
   "source": [
    "# Function to resize and transform images\n",
    "def transform(image, resize_height=48, resize_width=48):\n",
    "    cropped_image = np.array(Image.fromarray(image).resize((48, 48)))\n",
    "    return np.array(cropped_image)/127.5 - 1"
   ]
  },
  {
   "cell_type": "code",
   "execution_count": 7,
   "metadata": {},
   "outputs": [],
   "source": [
    "# Inverese transform of the image\n",
    "def inverse_transform(images):\n",
    "    return (images + 1.)/2."
   ]
  },
  {
   "cell_type": "code",
   "execution_count": 4,
   "metadata": {
    "scrolled": true
   },
   "outputs": [
    {
     "ename": "ModuleNotFoundError",
     "evalue": "No module named 'path'",
     "output_type": "error",
     "traceback": [
      "\u001b[1;31m---------------------------------------------------------------------------\u001b[0m",
      "\u001b[1;31mModuleNotFoundError\u001b[0m                       Traceback (most recent call last)",
      "\u001b[1;32m<ipython-input-4-248101c683b5>\u001b[0m in \u001b[0;36m<module>\u001b[1;34m\u001b[0m\n\u001b[1;32m----> 1\u001b[1;33m \u001b[0mvids\u001b[0m \u001b[1;33m=\u001b[0m \u001b[0mpickle\u001b[0m\u001b[1;33m.\u001b[0m\u001b[0mload\u001b[0m\u001b[1;33m(\u001b[0m\u001b[0mopen\u001b[0m\u001b[1;33m(\u001b[0m\u001b[1;34m'.\\expert_push.pkl'\u001b[0m\u001b[1;33m,\u001b[0m \u001b[1;34m'rb'\u001b[0m\u001b[1;33m)\u001b[0m\u001b[1;33m)\u001b[0m\u001b[1;33m\u001b[0m\u001b[1;33m\u001b[0m\u001b[0m\n\u001b[0m\u001b[0;32m      2\u001b[0m \u001b[1;33m\u001b[0m\u001b[0m\n\u001b[0;32m      3\u001b[0m \u001b[1;31m# Defining array to store data\u001b[0m\u001b[1;33m\u001b[0m\u001b[1;33m\u001b[0m\u001b[1;33m\u001b[0m\u001b[0m\n\u001b[0;32m      4\u001b[0m \u001b[0midata\u001b[0m \u001b[1;33m=\u001b[0m \u001b[1;33m[\u001b[0m\u001b[1;33m[\u001b[0m\u001b[1;33m]\u001b[0m \u001b[1;32mfor\u001b[0m \u001b[0m_\u001b[0m \u001b[1;32min\u001b[0m \u001b[0mrange\u001b[0m\u001b[1;33m(\u001b[0m\u001b[1;36m80\u001b[0m\u001b[1;33m)\u001b[0m\u001b[1;33m]\u001b[0m\u001b[1;33m\u001b[0m\u001b[1;33m\u001b[0m\u001b[0m\n\u001b[0;32m      5\u001b[0m \u001b[1;31m# Initializing variable for number of failed attempts\u001b[0m\u001b[1;33m\u001b[0m\u001b[1;33m\u001b[0m\u001b[1;33m\u001b[0m\u001b[0m\n",
      "\u001b[1;32m~\\Desktop\\Thesis\\Code\\sandbox\\rocky\\tf\\policies\\gaussian_mlp_policy.py\u001b[0m in \u001b[0;36m<module>\u001b[1;34m\u001b[0m\n\u001b[0;32m      4\u001b[0m \u001b[1;32mimport\u001b[0m \u001b[0msandbox\u001b[0m\u001b[1;33m.\u001b[0m\u001b[0mrocky\u001b[0m\u001b[1;33m.\u001b[0m\u001b[0mtf\u001b[0m\u001b[1;33m.\u001b[0m\u001b[0mcore\u001b[0m\u001b[1;33m.\u001b[0m\u001b[0mlayers\u001b[0m \u001b[1;32mas\u001b[0m \u001b[0mL\u001b[0m\u001b[1;33m\u001b[0m\u001b[1;33m\u001b[0m\u001b[0m\n\u001b[0;32m      5\u001b[0m \u001b[1;32mfrom\u001b[0m \u001b[0msandbox\u001b[0m\u001b[1;33m.\u001b[0m\u001b[0mrocky\u001b[0m\u001b[1;33m.\u001b[0m\u001b[0mtf\u001b[0m\u001b[1;33m.\u001b[0m\u001b[0mcore\u001b[0m\u001b[1;33m.\u001b[0m\u001b[0mnetwork\u001b[0m \u001b[1;32mimport\u001b[0m \u001b[0mMLP\u001b[0m\u001b[1;33m\u001b[0m\u001b[1;33m\u001b[0m\u001b[0m\n\u001b[1;32m----> 6\u001b[1;33m \u001b[1;32mfrom\u001b[0m \u001b[0msandbox\u001b[0m\u001b[1;33m.\u001b[0m\u001b[0mrocky\u001b[0m\u001b[1;33m.\u001b[0m\u001b[0mtf\u001b[0m\u001b[1;33m.\u001b[0m\u001b[0mspaces\u001b[0m\u001b[1;33m.\u001b[0m\u001b[0mbox\u001b[0m \u001b[1;32mimport\u001b[0m \u001b[0mBox\u001b[0m\u001b[1;33m\u001b[0m\u001b[1;33m\u001b[0m\u001b[0m\n\u001b[0m\u001b[0;32m      7\u001b[0m \u001b[1;33m\u001b[0m\u001b[0m\n\u001b[0;32m      8\u001b[0m \u001b[1;32mfrom\u001b[0m \u001b[0mrllab\u001b[0m\u001b[1;33m.\u001b[0m\u001b[0mcore\u001b[0m\u001b[1;33m.\u001b[0m\u001b[0mserializable\u001b[0m \u001b[1;32mimport\u001b[0m \u001b[0mSerializable\u001b[0m\u001b[1;33m\u001b[0m\u001b[1;33m\u001b[0m\u001b[0m\n",
      "\u001b[1;32m~\\Desktop\\Thesis\\Code\\sandbox\\rocky\\tf\\spaces\\__init__.py\u001b[0m in \u001b[0;36m<module>\u001b[1;34m\u001b[0m\n\u001b[1;32m----> 1\u001b[1;33m \u001b[1;32mfrom\u001b[0m \u001b[1;33m.\u001b[0m\u001b[0mproduct\u001b[0m \u001b[1;32mimport\u001b[0m \u001b[0mProduct\u001b[0m\u001b[1;33m\u001b[0m\u001b[1;33m\u001b[0m\u001b[0m\n\u001b[0m\u001b[0;32m      2\u001b[0m \u001b[1;32mfrom\u001b[0m \u001b[1;33m.\u001b[0m\u001b[0mdiscrete\u001b[0m \u001b[1;32mimport\u001b[0m \u001b[0mDiscrete\u001b[0m\u001b[1;33m\u001b[0m\u001b[1;33m\u001b[0m\u001b[0m\n\u001b[0;32m      3\u001b[0m \u001b[1;32mfrom\u001b[0m \u001b[1;33m.\u001b[0m\u001b[0mbox\u001b[0m \u001b[1;32mimport\u001b[0m \u001b[0mBox\u001b[0m\u001b[1;33m\u001b[0m\u001b[1;33m\u001b[0m\u001b[0m\n\u001b[0;32m      4\u001b[0m \u001b[1;33m\u001b[0m\u001b[0m\n\u001b[0;32m      5\u001b[0m \u001b[0m__all__\u001b[0m \u001b[1;33m=\u001b[0m \u001b[1;33m[\u001b[0m\u001b[1;34m\"Product\"\u001b[0m\u001b[1;33m,\u001b[0m \u001b[1;34m\"Discrete\"\u001b[0m\u001b[1;33m,\u001b[0m \u001b[1;34m\"Box\"\u001b[0m\u001b[1;33m]\u001b[0m\u001b[1;33m\u001b[0m\u001b[1;33m\u001b[0m\u001b[0m\n",
      "\u001b[1;32m~\\Desktop\\Thesis\\Code\\sandbox\\rocky\\tf\\spaces\\product.py\u001b[0m in \u001b[0;36m<module>\u001b[1;34m\u001b[0m\n\u001b[1;32m----> 1\u001b[1;33m \u001b[1;32mfrom\u001b[0m \u001b[0mrllab\u001b[0m\u001b[1;33m.\u001b[0m\u001b[0mspaces\u001b[0m\u001b[1;33m.\u001b[0m\u001b[0mbase\u001b[0m \u001b[1;32mimport\u001b[0m \u001b[0mSpace\u001b[0m\u001b[1;33m\u001b[0m\u001b[1;33m\u001b[0m\u001b[0m\n\u001b[0m\u001b[0;32m      2\u001b[0m \u001b[1;32mimport\u001b[0m \u001b[0mtensorflow\u001b[0m \u001b[1;32mas\u001b[0m \u001b[0mtf\u001b[0m\u001b[1;33m\u001b[0m\u001b[1;33m\u001b[0m\u001b[0m\n\u001b[0;32m      3\u001b[0m \u001b[1;32mimport\u001b[0m \u001b[0mnumpy\u001b[0m \u001b[1;32mas\u001b[0m \u001b[0mnp\u001b[0m\u001b[1;33m\u001b[0m\u001b[1;33m\u001b[0m\u001b[0m\n\u001b[0;32m      4\u001b[0m \u001b[1;33m\u001b[0m\u001b[0m\n\u001b[0;32m      5\u001b[0m \u001b[1;33m\u001b[0m\u001b[0m\n",
      "\u001b[1;32mc:\\users\\danie\\appdata\\local\\programs\\python\\python39\\lib\\site-packages\\rllab-0.1.0-py3.9.egg\\rllab\\spaces\\__init__.py\u001b[0m in \u001b[0;36m<module>\u001b[1;34m\u001b[0m\n\u001b[1;32m----> 1\u001b[1;33m \u001b[1;32mfrom\u001b[0m \u001b[1;33m.\u001b[0m\u001b[0mproduct\u001b[0m \u001b[1;32mimport\u001b[0m \u001b[0mProduct\u001b[0m\u001b[1;33m\u001b[0m\u001b[1;33m\u001b[0m\u001b[0m\n\u001b[0m\u001b[0;32m      2\u001b[0m \u001b[1;32mfrom\u001b[0m \u001b[1;33m.\u001b[0m\u001b[0mdiscrete\u001b[0m \u001b[1;32mimport\u001b[0m \u001b[0mDiscrete\u001b[0m\u001b[1;33m\u001b[0m\u001b[1;33m\u001b[0m\u001b[0m\n\u001b[0;32m      3\u001b[0m \u001b[1;32mfrom\u001b[0m \u001b[1;33m.\u001b[0m\u001b[0mbox\u001b[0m \u001b[1;32mimport\u001b[0m \u001b[0mBox\u001b[0m\u001b[1;33m\u001b[0m\u001b[1;33m\u001b[0m\u001b[0m\n\u001b[0;32m      4\u001b[0m \u001b[1;33m\u001b[0m\u001b[0m\n\u001b[0;32m      5\u001b[0m \u001b[0m__all__\u001b[0m \u001b[1;33m=\u001b[0m \u001b[1;33m[\u001b[0m\u001b[1;34m\"Product\"\u001b[0m\u001b[1;33m,\u001b[0m \u001b[1;34m\"Discrete\"\u001b[0m\u001b[1;33m,\u001b[0m \u001b[1;34m\"Box\"\u001b[0m\u001b[1;33m]\u001b[0m\u001b[1;33m\u001b[0m\u001b[1;33m\u001b[0m\u001b[0m\n",
      "\u001b[1;32mc:\\users\\danie\\appdata\\local\\programs\\python\\python39\\lib\\site-packages\\rllab-0.1.0-py3.9.egg\\rllab\\spaces\\product.py\u001b[0m in \u001b[0;36m<module>\u001b[1;34m\u001b[0m\n\u001b[0;32m      1\u001b[0m \u001b[1;32mfrom\u001b[0m \u001b[0mrllab\u001b[0m\u001b[1;33m.\u001b[0m\u001b[0mspaces\u001b[0m\u001b[1;33m.\u001b[0m\u001b[0mbase\u001b[0m \u001b[1;32mimport\u001b[0m \u001b[0mSpace\u001b[0m\u001b[1;33m\u001b[0m\u001b[1;33m\u001b[0m\u001b[0m\n\u001b[0;32m      2\u001b[0m \u001b[1;32mimport\u001b[0m \u001b[0mnumpy\u001b[0m \u001b[1;32mas\u001b[0m \u001b[0mnp\u001b[0m\u001b[1;33m\u001b[0m\u001b[1;33m\u001b[0m\u001b[0m\n\u001b[1;32m----> 3\u001b[1;33m \u001b[1;32mfrom\u001b[0m \u001b[0mrllab\u001b[0m\u001b[1;33m.\u001b[0m\u001b[0mmisc\u001b[0m \u001b[1;32mimport\u001b[0m \u001b[0mext\u001b[0m\u001b[1;33m\u001b[0m\u001b[1;33m\u001b[0m\u001b[0m\n\u001b[0m\u001b[0;32m      4\u001b[0m \u001b[1;33m\u001b[0m\u001b[0m\n\u001b[0;32m      5\u001b[0m \u001b[1;33m\u001b[0m\u001b[0m\n",
      "\u001b[1;32mc:\\users\\danie\\appdata\\local\\programs\\python\\python39\\lib\\site-packages\\rllab-0.1.0-py3.9.egg\\rllab\\misc\\ext.py\u001b[0m in \u001b[0;36m<module>\u001b[1;34m\u001b[0m\n\u001b[1;32m----> 1\u001b[1;33m \u001b[1;32mfrom\u001b[0m \u001b[0mpath\u001b[0m \u001b[1;32mimport\u001b[0m \u001b[0mPath\u001b[0m\u001b[1;33m\u001b[0m\u001b[1;33m\u001b[0m\u001b[0m\n\u001b[0m\u001b[0;32m      2\u001b[0m \u001b[1;32mimport\u001b[0m \u001b[0msys\u001b[0m\u001b[1;33m\u001b[0m\u001b[1;33m\u001b[0m\u001b[0m\n\u001b[0;32m      3\u001b[0m \u001b[1;32mimport\u001b[0m \u001b[0mpickle\u001b[0m \u001b[1;32mas\u001b[0m \u001b[0mpickle\u001b[0m\u001b[1;33m\u001b[0m\u001b[1;33m\u001b[0m\u001b[0m\n\u001b[0;32m      4\u001b[0m \u001b[1;32mimport\u001b[0m \u001b[0mrandom\u001b[0m\u001b[1;33m\u001b[0m\u001b[1;33m\u001b[0m\u001b[0m\n\u001b[0;32m      5\u001b[0m \u001b[1;32mfrom\u001b[0m \u001b[0mrllab\u001b[0m\u001b[1;33m.\u001b[0m\u001b[0mmisc\u001b[0m\u001b[1;33m.\u001b[0m\u001b[0mconsole\u001b[0m \u001b[1;32mimport\u001b[0m \u001b[0mcolorize\u001b[0m\u001b[1;33m,\u001b[0m \u001b[0mMessage\u001b[0m\u001b[1;33m\u001b[0m\u001b[1;33m\u001b[0m\u001b[0m\n",
      "\u001b[1;31mModuleNotFoundError\u001b[0m: No module named 'path'"
     ]
    }
   ],
   "source": [
    "# To run this section, either import the expert_push.pkl file to automatically launch RLlab (provided it's setup correctly)\n",
    "# and generate the dataset. Alternatively, run the gen_videos.py file inside RLlab, save the generated videos and provide the\n",
    "# dataset path to the \"vids = gfile.Glob(\"XXX\")\" line, replacing the \"XXX\" with the file path. The pickle method is preferable.\n",
    "\n",
    "# vids = gfile.Glob(\"XXX\")\n",
    "vids = pickle.load(open('.\\expert_push.pkl', 'rb'))\n",
    "\n",
    "# Defining array to store data\n",
    "idata = [[] for _ in range(50)]\n",
    "# Initializing variable for number of failed attempts\n",
    "nfail = 0\n",
    "# Dimensions of the video\n",
    "idim = (64, 64)\n",
    "# Number of iterations\n",
    "itr = 0\n",
    "# Shuffling videos\n",
    "np.random.shuffle(vids)\n",
    "\n",
    "# Iterating through the list of videos\n",
    "for name in vids:\n",
    "    try:\n",
    "        # Reading the video file\n",
    "        vid = imageio.get_reader(name,  'ffmpeg')\n",
    "        # Printing every 100 iterations\n",
    "        if itr % 100 == 0:\n",
    "            print(itr, map(len, idata))\n",
    "\n",
    "        nlen = len(vid)\n",
    "        # Initializing/resetting array to store frames\n",
    "        frames = []\n",
    "        \n",
    "        # Iterating through the frames of each video\n",
    "        for j in range(50):\n",
    "            # Extracting frames from video\n",
    "            frame = transform(vid.get_data(j))\n",
    "            # Appending frames to array\n",
    "            frames.append(frame)\n",
    "        for j, f in enumerate(frames):\n",
    "            # Appending video to array\n",
    "            idata[j].append(f)\n",
    "        itr += 1\n",
    "    except:\n",
    "        nfail += 1\n",
    "        # Printing error\n",
    "        print(\"Unexpected error:\", sys.exc_info())\n",
    "        print(name)\n",
    "        # Exiting if more than 10 fails occur\n",
    "        if nfail > 10:\n",
    "            break"
   ]
  },
  {
   "cell_type": "code",
   "execution_count": 3,
   "metadata": {},
   "outputs": [
    {
     "ename": "NameError",
     "evalue": "name 'idata' is not defined",
     "output_type": "error",
     "traceback": [
      "\u001b[0;31m---------------------------------------------------------------------------\u001b[0m",
      "\u001b[0;31mNameError\u001b[0m                                 Traceback (most recent call last)",
      "\u001b[0;32m<ipython-input-3-365f18bc6026>\u001b[0m in \u001b[0;36m<module>\u001b[0;34m()\u001b[0m\n\u001b[0;32m----> 1\u001b[0;31m \u001b[0mvdata2\u001b[0m \u001b[0;34m=\u001b[0m \u001b[0mnp\u001b[0m\u001b[0;34m.\u001b[0m\u001b[0marray\u001b[0m\u001b[0;34m(\u001b[0m\u001b[0midata\u001b[0m\u001b[0;34m)\u001b[0m\u001b[0;34m\u001b[0m\u001b[0m\n\u001b[0m\u001b[1;32m      2\u001b[0m \u001b[0mvdata2\u001b[0m\u001b[0;34m.\u001b[0m\u001b[0mshape\u001b[0m\u001b[0;34m\u001b[0m\u001b[0m\n",
      "\u001b[0;31mNameError\u001b[0m: name 'idata' is not defined"
     ]
    }
   ],
   "source": [
    "# Assigning data to a variable\n",
    "vdata = np.array(idata)\n",
    "vdata.shape"
   ]
  },
  {
   "cell_type": "code",
   "execution_count": 4,
   "metadata": {},
   "outputs": [
    {
     "data": {
      "text/plain": [
       "(50, 200, 36, 64, 3)"
      ]
     },
     "execution_count": 4,
     "metadata": {},
     "output_type": "execute_result"
    }
   ],
   "source": [
    "# Loading previous data\n",
    "vdata = np.load('vdata_realnew200.npy')\n",
    "vdata.shape"
   ]
  },
  {
   "cell_type": "markdown",
   "metadata": {},
   "source": [
    "---\n",
    "## Model Building\n",
    "\n",
    "This section defines the encoders and decoders for the context-translation archtiecture ."
   ]
  },
  {
   "cell_type": "code",
   "execution_count": 8,
   "metadata": {},
   "outputs": [],
   "source": [
    "# Defining leaky ReLu\n",
    "def lrelu(x, leak=0.2, name=\"lrelu\"):\n",
    "    return tf.maximum(x, leak*x)"
   ]
  },
  {
   "cell_type": "code",
   "execution_count": 9,
   "metadata": {},
   "outputs": [],
   "source": [
    "# Defining 2d convolution\n",
    "def conv2d(input_, output_dim, \n",
    "       k_h=5, k_w=5, d_h=2, d_w=2, stddev=0.02,\n",
    "       name=\"conv2d\"):\n",
    "    with tf.variable_scope(name):\n",
    "        w = tf.get_variable('w', [k_h, k_w, input_.get_shape()[-1], output_dim],\n",
    "                  initializer=tf.truncated_normal_initializer(stddev=stddev))\n",
    "        \n",
    "        # Defining convolution parameters\n",
    "        conv = tf.nn.conv2d(input_, w, strides=[1, d_h, d_w, 1], padding='SAME')\n",
    "\n",
    "        biases = tf.get_variable('biases', [output_dim], initializer=tf.constant_initializer(0.0))\n",
    "        conv = tf.reshape(tf.nn.bias_add(conv, biases), conv.get_shape())\n",
    "    return conv"
   ]
  },
  {
   "cell_type": "code",
   "execution_count": 10,
   "metadata": {},
   "outputs": [],
   "source": [
    "# Class for batch normalisation\n",
    "class batch_norm(object):\n",
    "    def __init__(self, epsilon=1e-5, momentum = 0.9, name=\"batch_norm\"):\n",
    "        with tf.variable_scope(name):\n",
    "            self.epsilon  = epsilon\n",
    "            self.momentum = momentum\n",
    "            self.name = name\n",
    "\n",
    "    def __call__(self, x):\n",
    "        return tf.contrib.layers.batch_norm(x,\n",
    "                      decay=self.momentum, \n",
    "                      updates_collections=None,\n",
    "                      epsilon=self.epsilon,\n",
    "                      scale=True,\n",
    "                      is_training=tftrain,\n",
    "                      scope=self.name)"
   ]
  },
  {
   "cell_type": "code",
   "execution_count": 11,
   "metadata": {},
   "outputs": [],
   "source": [
    "# Function for linear activation\n",
    "def linear(input_, output_size, scope=None, stddev=0.02, bias_start=0.0, with_w=False):\n",
    "    shape = input_.get_shape().as_list()\n",
    "\n",
    "    with tf.variable_scope(scope or \"Linear\"):\n",
    "        matrix = tf.get_variable(\"Matrix\", [shape[1], output_size], tf.float32,\n",
    "                 tf.random_normal_initializer(stddev=stddev))\n",
    "        bias = tf.get_variable(\"bias\", [output_size],\n",
    "              initializer=tf.constant_initializer(bias_start))\n",
    "    if with_w:\n",
    "        return tf.matmul(input_, matrix) + bias, matrix, bias\n",
    "    else:\n",
    "        return tf.matmul(input_, matrix) + bias"
   ]
  },
  {
   "cell_type": "code",
   "execution_count": 12,
   "metadata": {},
   "outputs": [],
   "source": [
    "# Function for deconvolution 2D\n",
    "def deconv2d(input_, output_shape,\n",
    "       k_h=5, k_w=5, d_h=2, d_w=2, stddev=0.02,\n",
    "       name=\"deconv2d\", with_w=False):\n",
    "    with tf.variable_scope(name):\n",
    "        w = tf.get_variable('w', [k_h, k_w, output_shape[-1], input_.get_shape()[-1]],\n",
    "                  initializer=tf.random_normal_initializer(stddev=stddev))\n",
    "\n",
    "        try:\n",
    "            # Defining deconvolution\n",
    "            deconv = tf.nn.conv2d_transpose(input_, w, output_shape=output_shape,\n",
    "                    strides=[1, d_h, d_w, 1])\n",
    "\n",
    "        # Support for verisons of TensorFlow before 0.7.0\n",
    "        except AttributeError:\n",
    "            deconv = tf.nn.deconv2d(input_, w, output_shape=output_shape,\n",
    "                    strides=[1, d_h, d_w, 1])\n",
    "\n",
    "        biases = tf.get_variable('biases', [output_shape[-1]], initializer=tf.constant_initializer(0.0))\n",
    "        deconv = tf.reshape(tf.nn.bias_add(deconv, biases), deconv.get_shape())\n",
    "\n",
    "        if with_w:\n",
    "            return deconv, w, biases\n",
    "        else:\n",
    "            return deconv"
   ]
  },
  {
   "cell_type": "code",
   "execution_count": 15,
   "metadata": {},
   "outputs": [],
   "source": [
    "# Class building overall model\n",
    "class ContextAE:\n",
    "    def __init__(self, gf_dim=64, df_dim=64,\n",
    "                 gfc_dim=1024, dfc_dim=1024,\n",
    "                 c_dim=3):\n",
    "        # Image dimensions (H)\n",
    "        self.gf_dim = gf_dim\n",
    "        # Image dimensions (W)\n",
    "        self.df_dim = df_dim\n",
    "        # Bandwidth (RGB, G, etc)\n",
    "        self.c_dim = c_dim\n",
    "        \n",
    "        # Filter size\n",
    "        self.gfc_dim = gfc_dim\n",
    "        self.dfc_dim = dfc_dim\n",
    "\n",
    "    \n",
    "    # Building the model\n",
    "    def build(self, image):\n",
    "        # Finding shape of dataset\n",
    "        imgshape = image.get_shape().as_list()\n",
    "        print(imgshape)\n",
    "        self.output_height, self.output_width = imgshape[-3:-1]\n",
    "        # Defining batch size\n",
    "        self.batch_size = imgshape[1]\n",
    "        # Feature size\n",
    "        featsize = 1024\n",
    "        # Defining source demonstration\n",
    "        srcimg = image[0]\n",
    "        # Defining target context image\n",
    "        tgtimg = image[2]\n",
    "        # Defining target video\n",
    "        tgtctx = image[1]\n",
    "        \n",
    "        \n",
    "        # Encoder 2\n",
    "        with tf.variable_scope(\"conv_context\") as scope:\n",
    "            # Convolution of static context image\n",
    "            tgtctx_h0 = lrelu(conv2d(tgtctx, self.df_dim, name='h0_conv'))\n",
    "            tgtctx_h1 = lrelu(conv2d(tgtctx_h0, self.df_dim*2, name='h1_conv'))\n",
    "            tgtctx_h2 = lrelu(conv2d(tgtctx_h1, self.df_dim*4, name='h2_conv'))\n",
    "            tgtctx_h3 = lrelu(conv2d(tgtctx_h2, self.df_dim*8, name='h3_conv'))\n",
    "            tgtctx_h4 = lrelu(linear(tf.reshape(tgtctx_h3, [self.batch_size, -1]), featsize, 'h4_lin'))\n",
    "            tgtctx_z = linear(tgtctx_h4, featsize, 'hz_lin')\n",
    "        \n",
    "        # Encoder 1\n",
    "        with tf.variable_scope(\"conv\") as scope:\n",
    "            # Convolution of demonstration\n",
    "            srcimg_h0 = lrelu(conv2d(srcimg, self.df_dim, name='h0_conv'))\n",
    "            srcimg_h1 = lrelu(conv2d(srcimg_h0, self.df_dim*2, name='h1_conv'))\n",
    "            srcimg_h2 = lrelu(conv2d(srcimg_h1, self.df_dim*4, name='h2_conv'))\n",
    "            srcimg_h3 = lrelu(conv2d(srcimg_h2, self.df_dim*8, name='h3_conv'))\n",
    "            print(srcimg_h3.get_shape())\n",
    "            srcimg_h4 = lrelu(linear(tf.reshape(srcimg_h3, [self.batch_size, -1]), featsize, 'h4_lin'))\n",
    "            srcimg_z = lrelu(linear(srcimg_h4, featsize, 'hz_lin'))\n",
    "            \n",
    "            scope.reuse_variables()\n",
    "            \n",
    "            # Convolution of target\n",
    "            tgtimg_h0 = lrelu(conv2d(tgtimg, self.df_dim, name='h0_conv'))\n",
    "            tgtimg_h1 = lrelu(conv2d(tgtimg_h0, self.df_dim*2, name='h1_conv'))\n",
    "            tgtimg_h2 = lrelu(conv2d(tgtimg_h1, self.df_dim*4, name='h2_conv'))\n",
    "            tgtimg_h3 = lrelu(conv2d(tgtimg_h2, self.df_dim*8, name='h3_conv'))\n",
    "            tgtimg_h4 = lrelu(linear(tf.reshape(tgtimg_h3, [self.batch_size, -1]), featsize, 'h4_lin'))\n",
    "            tgtimg_z = lrelu(linear(tgtimg_h4, featsize, 'hz_lin'))\n",
    "        \n",
    "        # Translation module\n",
    "        with tf.variable_scope(\"translate\") as scope:\n",
    "            # Leaky ReLu activation, concatenation of t\n",
    "            trans_h0 = lrelu(linear(tf.concat([srcimg_z, tgtctx_z], 1), featsize, 'trans_h0'))\n",
    "            trans_z = linear(trans_h0, featsize, 'trans_z')\n",
    "            self.translated_z = trans_z\n",
    "        \n",
    "        # Deconvolutions\n",
    "        with tf.variable_scope(\"deconv\") as scope:\n",
    "            # Strides\n",
    "            s_h, s_w = self.output_height, self.output_width\n",
    "            s_h2, s_h4, s_h8, s_h16 = \\\n",
    "                int(s_h/2), int(s_h/4), int(s_h/8), int(s_h/16)\n",
    "            s_w2, s_w4, s_w8, s_w16 = \\\n",
    "                int(s_w/2), int(s_w/4), int(s_w/8), int(s_w/16)\n",
    "            \n",
    "            # Deconvolution of concatenated/translated data\n",
    "            output_z_ = lrelu(linear(trans_z, self.gf_dim*8*s_h16*s_w16, 'd_h0_lin'))\n",
    "            output_h0 = tf.reshape(output_z_, [-1, s_h16, s_w16, self.gf_dim * 8])\n",
    "            output_h1 = lrelu(deconv2d(tf.concat([output_h0, tgtctx_h3], 3),\n",
    "                    [self.batch_size, s_h8, s_w8, self.gf_dim*4], name='d_h1'))\n",
    "            output_h2 = lrelu(deconv2d(tf.concat([output_h1, tgtctx_h2], 3),\n",
    "                [self.batch_size, s_h4, s_w4, self.gf_dim*2], name='d_h2'))\n",
    "            output_h3 = lrelu(deconv2d(tf.concat([output_h2, tgtctx_h1], 3),\n",
    "                [self.batch_size, s_h2, s_w2, self.gf_dim*1], name='d_h3'))\n",
    "            output_h4 = deconv2d(tf.concat([output_h3, tgtctx_h0], 3),\n",
    "                [self.batch_size, s_h, s_w, self.c_dim], name='d_h4')\n",
    "\n",
    "            scope.reuse_variables()\n",
    "            \n",
    "            # Deconvolution of true output\n",
    "            truthoutput_z_ = lrelu(linear(tgtimg_z, self.gf_dim*8*s_h16*s_w16, 'd_h0_lin'))\n",
    "            truthoutput_h0 = tf.reshape(truthoutput_z_, [-1, s_h16, s_w16, self.gf_dim * 8])\n",
    "            truthoutput_h1 = lrelu(deconv2d(tf.concat([truthoutput_h0, tgtctx_h3], 3),\n",
    "                    [self.batch_size, s_h8, s_w8, self.gf_dim*4], name='d_h1'))\n",
    "            truthoutput_h2 = lrelu(deconv2d(tf.concat([truthoutput_h1, tgtctx_h2], 3),\n",
    "                [self.batch_size, s_h4, s_w4, self.gf_dim*2], name='d_h2'))\n",
    "            truthoutput_h3 = lrelu(deconv2d(tf.concat([truthoutput_h2, tgtctx_h1], 3),\n",
    "                [self.batch_size, s_h2, s_w2, self.gf_dim*1], name='d_h3'))\n",
    "            truthoutput_h4 = deconv2d(tf.concat([truthoutput_h3, tgtctx_h0], 3),\n",
    "                [self.batch_size, s_h, s_w, self.c_dim], name='d_h4')\n",
    "        \n",
    "        # Defining loss functions\n",
    "        # Similarity loss\n",
    "        self.simloss = tf.reduce_mean((trans_z - tgtimg_z) ** 2) * 1e3\n",
    "        print(tgtimg_z.get_shape())\n",
    "        self.out = output_h4\n",
    "        self.out2 = truthoutput_h4\n",
    "        print(self.out.get_shape())\n",
    "        # Reconstruction loss 1\n",
    "        self.recon1 = tf.nn.l2_loss(tgtimg - self.out)\n",
    "        # Reconstruction loss 1\n",
    "        self.recon2 = tf.nn.l2_loss(tgtimg - self.out2)\n",
    "        # Overall loss\n",
    "        self.loss = self.recon1 + self.recon2 + self.simloss"
   ]
  },
  {
   "cell_type": "code",
   "execution_count": 16,
   "metadata": {},
   "outputs": [
    {
     "name": "stdout",
     "output_type": "stream",
     "text": [
      "[3, 100, 64, 64, 3]\n",
      "(100, 4, 4, 512)\n",
      "(100, 1024)\n",
      "(100, 64, 64, 3)\n"
     ]
    }
   ],
   "source": [
    "ops.reset_default_graph()\n",
    "# Defining dimensions of image\n",
    "idim = (64, 64)\n",
    "tftrain = tf.placeholder(tf.bool, name='tftrain')\n",
    "# Defining batch size\n",
    "batch_size = 100\n",
    "# Defining input\n",
    "tfinput = tf.placeholder(tf.float32, (3, batch_size) + idim + (3, ), name='x')\n",
    "# Assigning class to instantiater\n",
    "test = ContextAE()\n",
    "# Building the model\n",
    "test.build(tfinput)"
   ]
  },
  {
   "cell_type": "code",
   "execution_count": 17,
   "metadata": {},
   "outputs": [],
   "source": [
    "# Run with GPU\n",
    "config = tf.ConfigProto(\n",
    "     device_count = {'GPU': 0}\n",
    "                       )\n",
    "config.gpu_options.allow_growth=True\n",
    "# Initializing session\n",
    "sess = tf.Session(config=config)\n",
    "# Defining learning rate\n",
    "learning_rate = tf.placeholder(tf.float32, shape=[])\n",
    "# Defining optimizer\n",
    "optimizer = tf.train.AdamOptimizer(learning_rate).minimize(test.loss)\n",
    "# Running session\n",
    "sess.run(tf.global_variables_initializer())\n",
    "# Defining empty arrays for losses\n",
    "allloss = []\n",
    "validloss = []\n",
    "itr = 0\n",
    "# Defining parameter saver\n",
    "saver = tf.train.Saver()"
   ]
  },
  {
   "cell_type": "code",
   "execution_count": 10,
   "metadata": {},
   "outputs": [
    {
     "name": "stdout",
     "output_type": "stream",
     "text": [
      "INFO:tensorflow:Restoring parameters from ./ctxskiprealnew62575\n"
     ]
    }
   ],
   "source": [
    "# Loading in old parameters, DO NOT USE IF TRAINING A NEW MODEL\n",
    "saver.restore(sess, './Models/ctxskiprealtransform127_11751')"
   ]
  },
  {
   "cell_type": "code",
   "execution_count": 259,
   "metadata": {},
   "outputs": [
    {
     "name": "stdout",
     "output_type": "stream",
     "text": [
      "WARNING:tensorflow:From <ipython-input-259-f3c3549b75e9>:3 in <module>.: all_variables (from tensorflow.python.ops.variables) is deprecated and will be removed after 2017-03-02.\n",
      "Instructions for updating:\n",
      "Please use tf.global_variables instead.\n",
      "WARNING:tensorflow:From <ipython-input-259-f3c3549b75e9>:9 in <module>.: initialize_variables (from tensorflow.python.ops.variables) is deprecated and will be removed after 2017-03-02.\n",
      "Instructions for updating:\n",
      "Use `tf.variables_initializer` instead.\n"
     ]
    }
   ],
   "source": [
    "# Optimizer for second encoder\n",
    "optimizer2 = tf.train.AdamOptimizer(learning_rate).minimize(test.loss)\n",
    "uninitialized_vars = []\n",
    "# Initializing variables\n",
    "for var in tf.global_variables():\n",
    "    try:\n",
    "        sess.run(var)\n",
    "    except tf.errors.FailedPreconditionError:\n",
    "        uninitialized_vars.append(var)\n",
    "\n",
    "init_new_vars_op = tf.variables_initializer(uninitialized_vars)\n",
    "sess.run(init_new_vars_op)"
   ]
  },
  {
   "cell_type": "markdown",
   "metadata": {},
   "source": [
    "---\n",
    "## Training\n",
    "\n",
    "This section outlines the training of the model from the constructed dataset."
   ]
  },
  {
   "cell_type": "code",
   "execution_count": 11,
   "metadata": {
    "scrolled": true
   },
   "outputs": [
    {
     "name": "stdout",
     "output_type": "stream",
     "text": [
      "(50, 200, 36, 64, 3)\n",
      "180 20\n",
      "(50, 20, 36, 64, 3) (50, 180, 36, 64, 3)\n",
      "2787.25 8.19523 1479.83 1299.22\n",
      "4557.7 6.97069 2673.39 1877.35 E\n"
     ]
    },
    {
     "ename": "KeyboardInterrupt",
     "evalue": "",
     "output_type": "error",
     "traceback": [
      "\u001b[0;31m---------------------------------------------------------------------------\u001b[0m",
      "\u001b[0;31mKeyboardInterrupt\u001b[0m                         Traceback (most recent call last)",
      "\u001b[0;32m<ipython-input-11-98bd52618cb8>\u001b[0m in \u001b[0;36m<module>\u001b[0;34m()\u001b[0m\n\u001b[1;32m     18\u001b[0m \u001b[0;31m#     print(sess.run( [test.recon1, test.recon2, test.loss, test.simloss], {tfinput: batch, learning_rate:1e-4, tftrain:False}))\u001b[0m\u001b[0;34m\u001b[0m\u001b[0;34m\u001b[0m\u001b[0m\n\u001b[1;32m     19\u001b[0m     _, loss, sim, r1, r2 = sess.run( [optimizer, test.loss, test.simloss, test.recon1, test.recon2], \n\u001b[0;32m---> 20\u001b[0;31m                                     {tfinput: batch, learning_rate:1e-4, tftrain:False, keep_prob:0.5})\n\u001b[0m\u001b[1;32m     21\u001b[0m     \u001b[0;32mif\u001b[0m \u001b[0mitr\u001b[0m \u001b[0;34m%\u001b[0m \u001b[0;36m4\u001b[0m \u001b[0;34m==\u001b[0m \u001b[0;36m0\u001b[0m\u001b[0;34m:\u001b[0m\u001b[0;34m\u001b[0m\u001b[0m\n\u001b[1;32m     22\u001b[0m         \u001b[0;32mprint\u001b[0m\u001b[0;34m(\u001b[0m\u001b[0mloss\u001b[0m\u001b[0;34m,\u001b[0m \u001b[0msim\u001b[0m\u001b[0;34m,\u001b[0m \u001b[0mr1\u001b[0m\u001b[0;34m,\u001b[0m \u001b[0mr2\u001b[0m\u001b[0;34m)\u001b[0m\u001b[0;34m\u001b[0m\u001b[0m\n",
      "\u001b[0;32m/usr/local/lib/python2.7/dist-packages/tensorflow/python/client/session.pyc\u001b[0m in \u001b[0;36mrun\u001b[0;34m(self, fetches, feed_dict, options, run_metadata)\u001b[0m\n\u001b[1;32m    776\u001b[0m     \u001b[0;32mtry\u001b[0m\u001b[0;34m:\u001b[0m\u001b[0;34m\u001b[0m\u001b[0m\n\u001b[1;32m    777\u001b[0m       result = self._run(None, fetches, feed_dict, options_ptr,\n\u001b[0;32m--> 778\u001b[0;31m                          run_metadata_ptr)\n\u001b[0m\u001b[1;32m    779\u001b[0m       \u001b[0;32mif\u001b[0m \u001b[0mrun_metadata\u001b[0m\u001b[0;34m:\u001b[0m\u001b[0;34m\u001b[0m\u001b[0m\n\u001b[1;32m    780\u001b[0m         \u001b[0mproto_data\u001b[0m \u001b[0;34m=\u001b[0m \u001b[0mtf_session\u001b[0m\u001b[0;34m.\u001b[0m\u001b[0mTF_GetBuffer\u001b[0m\u001b[0;34m(\u001b[0m\u001b[0mrun_metadata_ptr\u001b[0m\u001b[0;34m)\u001b[0m\u001b[0;34m\u001b[0m\u001b[0m\n",
      "\u001b[0;32m/usr/local/lib/python2.7/dist-packages/tensorflow/python/client/session.pyc\u001b[0m in \u001b[0;36m_run\u001b[0;34m(self, handle, fetches, feed_dict, options, run_metadata)\u001b[0m\n\u001b[1;32m    980\u001b[0m     \u001b[0;32mif\u001b[0m \u001b[0mfinal_fetches\u001b[0m \u001b[0;32mor\u001b[0m \u001b[0mfinal_targets\u001b[0m\u001b[0;34m:\u001b[0m\u001b[0;34m\u001b[0m\u001b[0m\n\u001b[1;32m    981\u001b[0m       results = self._do_run(handle, final_targets, final_fetches,\n\u001b[0;32m--> 982\u001b[0;31m                              feed_dict_string, options, run_metadata)\n\u001b[0m\u001b[1;32m    983\u001b[0m     \u001b[0;32melse\u001b[0m\u001b[0;34m:\u001b[0m\u001b[0;34m\u001b[0m\u001b[0m\n\u001b[1;32m    984\u001b[0m       \u001b[0mresults\u001b[0m \u001b[0;34m=\u001b[0m \u001b[0;34m[\u001b[0m\u001b[0;34m]\u001b[0m\u001b[0;34m\u001b[0m\u001b[0m\n",
      "\u001b[0;32m/usr/local/lib/python2.7/dist-packages/tensorflow/python/client/session.pyc\u001b[0m in \u001b[0;36m_do_run\u001b[0;34m(self, handle, target_list, fetch_list, feed_dict, options, run_metadata)\u001b[0m\n\u001b[1;32m   1030\u001b[0m     \u001b[0;32mif\u001b[0m \u001b[0mhandle\u001b[0m \u001b[0;32mis\u001b[0m \u001b[0mNone\u001b[0m\u001b[0;34m:\u001b[0m\u001b[0;34m\u001b[0m\u001b[0m\n\u001b[1;32m   1031\u001b[0m       return self._do_call(_run_fn, self._session, feed_dict, fetch_list,\n\u001b[0;32m-> 1032\u001b[0;31m                            target_list, options, run_metadata)\n\u001b[0m\u001b[1;32m   1033\u001b[0m     \u001b[0;32melse\u001b[0m\u001b[0;34m:\u001b[0m\u001b[0;34m\u001b[0m\u001b[0m\n\u001b[1;32m   1034\u001b[0m       return self._do_call(_prun_fn, self._session, handle, feed_dict,\n",
      "\u001b[0;32m/usr/local/lib/python2.7/dist-packages/tensorflow/python/client/session.pyc\u001b[0m in \u001b[0;36m_do_call\u001b[0;34m(self, fn, *args)\u001b[0m\n\u001b[1;32m   1037\u001b[0m   \u001b[0;32mdef\u001b[0m \u001b[0m_do_call\u001b[0m\u001b[0;34m(\u001b[0m\u001b[0mself\u001b[0m\u001b[0;34m,\u001b[0m \u001b[0mfn\u001b[0m\u001b[0;34m,\u001b[0m \u001b[0;34m*\u001b[0m\u001b[0margs\u001b[0m\u001b[0;34m)\u001b[0m\u001b[0;34m:\u001b[0m\u001b[0;34m\u001b[0m\u001b[0m\n\u001b[1;32m   1038\u001b[0m     \u001b[0;32mtry\u001b[0m\u001b[0;34m:\u001b[0m\u001b[0;34m\u001b[0m\u001b[0m\n\u001b[0;32m-> 1039\u001b[0;31m       \u001b[0;32mreturn\u001b[0m \u001b[0mfn\u001b[0m\u001b[0;34m(\u001b[0m\u001b[0;34m*\u001b[0m\u001b[0margs\u001b[0m\u001b[0;34m)\u001b[0m\u001b[0;34m\u001b[0m\u001b[0m\n\u001b[0m\u001b[1;32m   1040\u001b[0m     \u001b[0;32mexcept\u001b[0m \u001b[0merrors\u001b[0m\u001b[0;34m.\u001b[0m\u001b[0mOpError\u001b[0m \u001b[0;32mas\u001b[0m \u001b[0me\u001b[0m\u001b[0;34m:\u001b[0m\u001b[0;34m\u001b[0m\u001b[0m\n\u001b[1;32m   1041\u001b[0m       \u001b[0mmessage\u001b[0m \u001b[0;34m=\u001b[0m \u001b[0mcompat\u001b[0m\u001b[0;34m.\u001b[0m\u001b[0mas_text\u001b[0m\u001b[0;34m(\u001b[0m\u001b[0me\u001b[0m\u001b[0;34m.\u001b[0m\u001b[0mmessage\u001b[0m\u001b[0;34m)\u001b[0m\u001b[0;34m\u001b[0m\u001b[0m\n",
      "\u001b[0;32m/usr/local/lib/python2.7/dist-packages/tensorflow/python/client/session.pyc\u001b[0m in \u001b[0;36m_run_fn\u001b[0;34m(session, feed_dict, fetch_list, target_list, options, run_metadata)\u001b[0m\n\u001b[1;32m   1019\u001b[0m         return tf_session.TF_Run(session, options,\n\u001b[1;32m   1020\u001b[0m                                  \u001b[0mfeed_dict\u001b[0m\u001b[0;34m,\u001b[0m \u001b[0mfetch_list\u001b[0m\u001b[0;34m,\u001b[0m \u001b[0mtarget_list\u001b[0m\u001b[0;34m,\u001b[0m\u001b[0;34m\u001b[0m\u001b[0m\n\u001b[0;32m-> 1021\u001b[0;31m                                  status, run_metadata)\n\u001b[0m\u001b[1;32m   1022\u001b[0m \u001b[0;34m\u001b[0m\u001b[0m\n\u001b[1;32m   1023\u001b[0m     \u001b[0;32mdef\u001b[0m \u001b[0m_prun_fn\u001b[0m\u001b[0;34m(\u001b[0m\u001b[0msession\u001b[0m\u001b[0;34m,\u001b[0m \u001b[0mhandle\u001b[0m\u001b[0;34m,\u001b[0m \u001b[0mfeed_dict\u001b[0m\u001b[0;34m,\u001b[0m \u001b[0mfetch_list\u001b[0m\u001b[0;34m)\u001b[0m\u001b[0;34m:\u001b[0m\u001b[0;34m\u001b[0m\u001b[0m\n",
      "\u001b[0;31mKeyboardInterrupt\u001b[0m: "
     ]
    }
   ],
   "source": [
    "# Length of dataset\n",
    "n = vdata.shape[1]\n",
    "# Number of iterations\n",
    "itr = 0\n",
    "# Length of data-samples (number of frames)\n",
    "nlen = 50\n",
    "# Number of training samples\n",
    "ntrain = 4500\n",
    "# Number of validation samples\n",
    "nvalid = n - ntrain\n",
    "print(ntrain, nvalid)\n",
    "# Validation data\n",
    "validdata = vdata[:, ntrain:]\n",
    "# Traning data\n",
    "traindata = vdata[:, :ntrain]\n",
    "print(validdata.shape, traindata.shape)\n",
    "\n",
    "# Running with GPU\n",
    "with tf.device('/device:GPU:0'):\n",
    "    while True:\n",
    "        # Source Video Index\n",
    "        choicesrc = np.random.choice(ntrain, batch_size)\n",
    "        # Target Video Index\n",
    "        choicetgt = np.random.choice(ntrain, batch_size)\n",
    "        # Source Video\n",
    "        srcdata = traindata[np.arange(0, batch_size) % nlen, choicesrc]\n",
    "        # Target Video\n",
    "        tgtdata = traindata[np.arange(0, batch_size) % nlen, choicetgt]\n",
    "        # Context Image\n",
    "        tgtctx = traindata[0, choicetgt]\n",
    "        # Data Batch\n",
    "        batch = [srcdata, tgtctx, tgtdata]\n",
    "\n",
    "        # Starting the training session, calculating losses\n",
    "        _, loss, sim, r1, r2 = sess.run([optimizer, test.loss, test.simloss, test.recon1, test.recon2], \n",
    "                                        {tfinput: batch, learning_rate:1e-4, tftrain:False})\n",
    "        \n",
    "        # Printing results every 4 iterations\n",
    "        if itr % 4 == 0:\n",
    "            print(loss, sim, r1, r2)\n",
    "            allloss = np.append(allloss, loss)\n",
    "        \n",
    "        # Validating every 40 iterations\n",
    "        if itr % 40 == 0:\n",
    "            choicesrc = np.random.choice(nvalid, batch_size)\n",
    "            choicetgt = np.random.choice(nvalid, batch_size)\n",
    "            srcdata = validdata[np.arange(0, batch_size) % 25, choicesrc]\n",
    "            tgtdata = validdata[np.arange(0, batch_size) % 25, choicetgt]\n",
    "            tgtctx = validdata[0, choicetgt]\n",
    "            batch = [srcdata, tgtctx, tgtdata]\n",
    "            loss, sim, r1, r2 = sess.run([test.loss, test.simloss, test.recon1, test.recon2], \n",
    "                                         {tfinput: batch, tftrain:False})\n",
    "            print(loss, sim, r1, r2,'E')\n",
    "            validloss = np.append(validloss, loss)\n",
    "        itr += 1"
   ]
  },
  {
   "cell_type": "code",
   "execution_count": 12,
   "metadata": {},
   "outputs": [
    {
     "data": {
      "text/plain": [
       "[<matplotlib.lines.Line2D at 0x7fae9265efd0>]"
      ]
     },
     "execution_count": 12,
     "metadata": {},
     "output_type": "execute_result"
    },
    {
     "data": {
      "image/png": "[encoded data removed]",
      "text/plain": [
       "<matplotlib.figure.Figure at 0x7fae92691ad0>"
      ]
     },
     "metadata": {},
     "output_type": "display_data"
    }
   ],
   "source": [
    "plt.plot(validloss[20:])"
   ]
  },
  {
   "cell_type": "markdown",
   "metadata": {},
   "source": [
    "---\n",
    "## Validating\n",
    "\n",
    "This section outlines the validation that was done for the model after training."
   ]
  },
  {
   "cell_type": "code",
   "execution_count": 19,
   "metadata": {},
   "outputs": [],
   "source": [
    "# Function to create gifs from decoder output\n",
    "def savegif(name, frames):\n",
    "    with imageio.get_writer(name, mode='I') as writer:\n",
    "        for f in frames:\n",
    "            writer.append_data((inverse_transform(f)*255).astype(np.uint8))"
   ]
  },
  {
   "cell_type": "code",
   "execution_count": 20,
   "metadata": {},
   "outputs": [],
   "source": [
    "# Function to display gifs\n",
    "def disimgs(imgs):\n",
    "    strs = ''\n",
    "    for img in imgs:\n",
    "        strs += '<img src=\"%s?rand=%f\" width=\"200px\"/><br/>'%(img, np.random.rand())\n",
    "    return HTML(strs)"
   ]
  },
  {
   "cell_type": "code",
   "execution_count": 21,
   "metadata": {},
   "outputs": [],
   "source": [
    "def filmstrip(video, name, skip=5):\n",
    "    fig, ax = plt.subplots(nrows=1, ncols=video.shape[0]//skip, figsize=(20,4))\n",
    "    for i in range(video.shape[0]//skip):\n",
    "        axx = ax[i]\n",
    "        axx.imshow(np.clip(inverse_transform(video[i*skip]), 0, 1))\n",
    "        axx.axis('off')\n",
    "    plt.tight_layout()\n",
    "    plt.savefig(name)\n",
    "itrand = 0"
   ]
  },
  {
   "cell_type": "code",
   "execution_count": 22,
   "metadata": {},
   "outputs": [],
   "source": [
    "# Function to resize images and apply inverse transform\n",
    "itrand = 0\n",
    "def toint(frame):\n",
    "    return scipy.misc.imresize((np.clip(inverse_transform(frame), 0, 1) * 255).astype(np.uint8), \n",
    "                          (frame.shape[0] * 10, frame.shape[1] * 10), interp='nearest')"
   ]
  },
  {
   "cell_type": "code",
   "execution_count": 16,
   "metadata": {
    "scrolled": true
   },
   "outputs": [
    {
     "name": "stdout",
     "output_type": "stream",
     "text": [
      "4270.94 2202.08 2065.44\n",
      "5657.87 2765.93 2877.75\n",
      "7934.81 4626.82 3304.49\n",
      "3728.42 2284.8 1439.23\n",
      "4350.48 2927.74 1418.08\n",
      "5382.0 3588.17 1788.86\n"
     ]
    },
    {
     "ename": "KeyboardInterrupt",
     "evalue": "",
     "output_type": "error",
     "traceback": [
      "\u001b[0;31m---------------------------------------------------------------------------\u001b[0m",
      "\u001b[0;31mKeyboardInterrupt\u001b[0m                         Traceback (most recent call last)",
      "\u001b[0;32m<ipython-input-16-8c00185091c8>\u001b[0m in \u001b[0;36m<module>\u001b[0;34m()\u001b[0m\n\u001b[1;32m     21\u001b[0m     \u001b[0mi3\u001b[0m \u001b[0;34m=\u001b[0m \u001b[0;34m\"gif/__truth%d.gif\"\u001b[0m\u001b[0;34m%\u001b[0m\u001b[0mi\u001b[0m\u001b[0;34m\u001b[0m\u001b[0m\n\u001b[1;32m     22\u001b[0m     \u001b[0msavegif\u001b[0m\u001b[0;34m(\u001b[0m\u001b[0mi1\u001b[0m\u001b[0;34m,\u001b[0m \u001b[0mtestouts\u001b[0m\u001b[0;34m[\u001b[0m\u001b[0;34m:\u001b[0m\u001b[0mnlen\u001b[0m\u001b[0;34m]\u001b[0m\u001b[0;34m)\u001b[0m\u001b[0;34m\u001b[0m\u001b[0m\n\u001b[0;32m---> 23\u001b[0;31m     \u001b[0msavegif\u001b[0m\u001b[0;34m(\u001b[0m\u001b[0mi2\u001b[0m\u001b[0;34m,\u001b[0m \u001b[0mtestouts2\u001b[0m\u001b[0;34m[\u001b[0m\u001b[0;34m:\u001b[0m\u001b[0mnlen\u001b[0m\u001b[0;34m]\u001b[0m\u001b[0;34m)\u001b[0m\u001b[0;34m\u001b[0m\u001b[0m\n\u001b[0m\u001b[1;32m     24\u001b[0m     \u001b[0msavegif\u001b[0m\u001b[0;34m(\u001b[0m\u001b[0mi3\u001b[0m\u001b[0;34m,\u001b[0m \u001b[0mtgtdata\u001b[0m\u001b[0;34m[\u001b[0m\u001b[0;34m:\u001b[0m\u001b[0mnlen\u001b[0m\u001b[0;34m]\u001b[0m\u001b[0;34m)\u001b[0m\u001b[0;34m\u001b[0m\u001b[0m\n\u001b[1;32m     25\u001b[0m     \u001b[0mimgs\u001b[0m\u001b[0;34m.\u001b[0m\u001b[0mextend\u001b[0m\u001b[0;34m(\u001b[0m\u001b[0;34m[\u001b[0m\u001b[0mi1\u001b[0m\u001b[0;34m,\u001b[0m \u001b[0mi2\u001b[0m\u001b[0;34m,\u001b[0m \u001b[0mi3\u001b[0m\u001b[0;34m]\u001b[0m\u001b[0;34m)\u001b[0m\u001b[0;34m\u001b[0m\u001b[0m\n",
      "\u001b[0;32m<ipython-input-15-da9bac7f2b3c>\u001b[0m in \u001b[0;36msavegif\u001b[0;34m(name, frames)\u001b[0m\n\u001b[1;32m      2\u001b[0m     \u001b[0;32mwith\u001b[0m \u001b[0mimageio\u001b[0m\u001b[0;34m.\u001b[0m\u001b[0mget_writer\u001b[0m\u001b[0;34m(\u001b[0m\u001b[0mname\u001b[0m\u001b[0;34m,\u001b[0m \u001b[0mmode\u001b[0m\u001b[0;34m=\u001b[0m\u001b[0;34m'I'\u001b[0m\u001b[0;34m)\u001b[0m \u001b[0;32mas\u001b[0m \u001b[0mwriter\u001b[0m\u001b[0;34m:\u001b[0m\u001b[0;34m\u001b[0m\u001b[0m\n\u001b[1;32m      3\u001b[0m         \u001b[0;32mfor\u001b[0m \u001b[0mf\u001b[0m \u001b[0;32min\u001b[0m \u001b[0mframes\u001b[0m\u001b[0;34m:\u001b[0m\u001b[0;34m\u001b[0m\u001b[0m\n\u001b[0;32m----> 4\u001b[0;31m             \u001b[0mwriter\u001b[0m\u001b[0;34m.\u001b[0m\u001b[0mappend_data\u001b[0m\u001b[0;34m(\u001b[0m\u001b[0;34m(\u001b[0m\u001b[0minverse_transform\u001b[0m\u001b[0;34m(\u001b[0m\u001b[0mf\u001b[0m\u001b[0;34m)\u001b[0m\u001b[0;34m*\u001b[0m\u001b[0;36m255\u001b[0m\u001b[0;34m)\u001b[0m\u001b[0;34m.\u001b[0m\u001b[0mastype\u001b[0m\u001b[0;34m(\u001b[0m\u001b[0mnp\u001b[0m\u001b[0;34m.\u001b[0m\u001b[0muint8\u001b[0m\u001b[0;34m)\u001b[0m\u001b[0;34m)\u001b[0m\u001b[0;34m\u001b[0m\u001b[0m\n\u001b[0m\u001b[1;32m      5\u001b[0m \u001b[0;32mdef\u001b[0m \u001b[0mdisimgs\u001b[0m\u001b[0;34m(\u001b[0m\u001b[0mimgs\u001b[0m\u001b[0;34m)\u001b[0m\u001b[0;34m:\u001b[0m\u001b[0;34m\u001b[0m\u001b[0m\n\u001b[1;32m      6\u001b[0m     \u001b[0mstrs\u001b[0m \u001b[0;34m=\u001b[0m \u001b[0;34m''\u001b[0m\u001b[0;34m\u001b[0m\u001b[0m\n",
      "\u001b[0;32m/usr/local/lib/python2.7/dist-packages/imageio/core/format.pyc\u001b[0m in \u001b[0;36mappend_data\u001b[0;34m(self, im, meta)\u001b[0m\n\u001b[1;32m    464\u001b[0m             \u001b[0mim\u001b[0m \u001b[0;34m=\u001b[0m \u001b[0masarray\u001b[0m\u001b[0;34m(\u001b[0m\u001b[0mim\u001b[0m\u001b[0;34m)\u001b[0m\u001b[0;34m\u001b[0m\u001b[0m\n\u001b[1;32m    465\u001b[0m             \u001b[0;31m# Call\u001b[0m\u001b[0;34m\u001b[0m\u001b[0;34m\u001b[0m\u001b[0m\n\u001b[0;32m--> 466\u001b[0;31m             \u001b[0;32mreturn\u001b[0m \u001b[0mself\u001b[0m\u001b[0;34m.\u001b[0m\u001b[0m_append_data\u001b[0m\u001b[0;34m(\u001b[0m\u001b[0mim\u001b[0m\u001b[0;34m,\u001b[0m \u001b[0mtotal_meta\u001b[0m\u001b[0;34m)\u001b[0m\u001b[0;34m\u001b[0m\u001b[0m\n\u001b[0m\u001b[1;32m    467\u001b[0m \u001b[0;34m\u001b[0m\u001b[0m\n\u001b[1;32m    468\u001b[0m         \u001b[0;32mdef\u001b[0m \u001b[0mset_meta_data\u001b[0m\u001b[0;34m(\u001b[0m\u001b[0mself\u001b[0m\u001b[0;34m,\u001b[0m \u001b[0mmeta\u001b[0m\u001b[0;34m)\u001b[0m\u001b[0;34m:\u001b[0m\u001b[0;34m\u001b[0m\u001b[0m\n",
      "\u001b[0;32m/usr/local/lib/python2.7/dist-packages/imageio/plugins/freeimagemulti.pyc\u001b[0m in \u001b[0;36m_append_data\u001b[0;34m(self, im, meta)\u001b[0m\n\u001b[1;32m     80\u001b[0m             \u001b[0msub2\u001b[0m \u001b[0;34m=\u001b[0m \u001b[0mself\u001b[0m\u001b[0;34m.\u001b[0m\u001b[0m_append_bitmap\u001b[0m\u001b[0;34m(\u001b[0m\u001b[0mim\u001b[0m\u001b[0;34m,\u001b[0m \u001b[0mmeta\u001b[0m\u001b[0;34m,\u001b[0m \u001b[0msub1\u001b[0m\u001b[0;34m)\u001b[0m\u001b[0;34m\u001b[0m\u001b[0m\n\u001b[1;32m     81\u001b[0m             \u001b[0;31m# Add\u001b[0m\u001b[0;34m\u001b[0m\u001b[0;34m\u001b[0m\u001b[0m\n\u001b[0;32m---> 82\u001b[0;31m             \u001b[0mself\u001b[0m\u001b[0;34m.\u001b[0m\u001b[0m_bm\u001b[0m\u001b[0;34m.\u001b[0m\u001b[0mappend_bitmap\u001b[0m\u001b[0;34m(\u001b[0m\u001b[0msub2\u001b[0m\u001b[0;34m)\u001b[0m\u001b[0;34m\u001b[0m\u001b[0m\n\u001b[0m\u001b[1;32m     83\u001b[0m             \u001b[0msub2\u001b[0m\u001b[0;34m.\u001b[0m\u001b[0mclose\u001b[0m\u001b[0;34m(\u001b[0m\u001b[0;34m)\u001b[0m\u001b[0;34m\u001b[0m\u001b[0m\n\u001b[1;32m     84\u001b[0m             \u001b[0;32mif\u001b[0m \u001b[0msub1\u001b[0m \u001b[0;32mis\u001b[0m \u001b[0;32mnot\u001b[0m \u001b[0msub2\u001b[0m\u001b[0;34m:\u001b[0m\u001b[0;34m\u001b[0m\u001b[0m\n",
      "\u001b[0;32m/usr/local/lib/python2.7/dist-packages/imageio/plugins/_freeimage.pyc\u001b[0m in \u001b[0;36mappend_bitmap\u001b[0;34m(self, bitmap)\u001b[0m\n\u001b[1;32m   1277\u001b[0m         \u001b[0;32mwith\u001b[0m \u001b[0mself\u001b[0m\u001b[0;34m.\u001b[0m\u001b[0m_fi\u001b[0m \u001b[0;32mas\u001b[0m \u001b[0mlib\u001b[0m\u001b[0;34m:\u001b[0m\u001b[0;34m\u001b[0m\u001b[0m\n\u001b[1;32m   1278\u001b[0m             \u001b[0;31m# no return value\u001b[0m\u001b[0;34m\u001b[0m\u001b[0;34m\u001b[0m\u001b[0m\n\u001b[0;32m-> 1279\u001b[0;31m             \u001b[0mlib\u001b[0m\u001b[0;34m.\u001b[0m\u001b[0mFreeImage_AppendPage\u001b[0m\u001b[0;34m(\u001b[0m\u001b[0mself\u001b[0m\u001b[0;34m.\u001b[0m\u001b[0m_bitmap\u001b[0m\u001b[0;34m,\u001b[0m \u001b[0mbitmap\u001b[0m\u001b[0;34m.\u001b[0m\u001b[0m_bitmap\u001b[0m\u001b[0;34m)\u001b[0m\u001b[0;34m\u001b[0m\u001b[0m\n\u001b[0m\u001b[1;32m   1280\u001b[0m \u001b[0;34m\u001b[0m\u001b[0m\n\u001b[1;32m   1281\u001b[0m \u001b[0;34m\u001b[0m\u001b[0m\n",
      "\u001b[0;31mKeyboardInterrupt\u001b[0m: "
     ]
    }
   ],
   "source": [
    "# Single test\n",
    "\n",
    "# Source demonstration\n",
    "choicesrc = [1] * batch_size\n",
    "# Target\n",
    "choicetgt = [12] * batch_size\n",
    "srcdata = validdata[np.arange(0, batch_size) % 25, choicesrc]\n",
    "tgtdata = validdata[np.arange(0, batch_size) % 25, choicetgt]\n",
    "tgtctx = validdata[0, choicetgt]\n",
    "batch = [srcdata, tgtctx, tgtdata]\n",
    "\n",
    "# Test 1\n",
    "L, r1, r2, testouts= sess.run([test.loss, test.recon1, test.recon2, test.out], {tfinput: batch, tftrain: False})\n",
    "\n",
    "# Test 2\n",
    "L, r1, r2, testouts2= sess.run([test.loss, test.recon1, test.recon2, test.out2], {tfinput: batch, tftrain: False})\n",
    "\n",
    "\n",
    "print(L, r1, r2)\n",
    "\n",
    "fig, ax = plt.subplots(nrows=5, ncols=5, figsize=(9,9))\n",
    "for i in range(25):\n",
    "    axx = ax[i//5][i%5]\n",
    "    axx.imshow(inverse_transform(testouts2[i]))\n",
    "    axx.axis('off')\n",
    "plt.tight_layout()\n",
    "\n",
    "\n",
    "fig, ax = plt.subplots(nrows=5, ncols=5, figsize=(9,9))\n",
    "for i in range(25):\n",
    "    axx = ax[i//5][i%5]\n",
    "    axx.imshow(inverse_transform(testouts[i]))\n",
    "    axx.axis('off')\n",
    "plt.tight_layout()\n",
    "\n",
    "fig, ax = plt.subplots(nrows=5, ncols=5, figsize=(9,9))\n",
    "for i in range(25):\n",
    "    axx = ax[i//5][i%5]\n",
    "    axx.imshow(inverse_transform(tgtdata[i]))\n",
    "    axx.axis('off')\n",
    "plt.tight_layout()"
   ]
  },
  {
   "cell_type": "code",
   "execution_count": 13,
   "metadata": {},
   "outputs": [
    {
     "name": "stdout",
     "output_type": "stream",
     "text": [
      "5344.84 3729.74 1610.49\n"
     ]
    },
    {
     "data": {
      "text/html": [
       "<img src=\"gif/__out3.gif?rand=0.903579\" width=\"200px\"/><br/><img src=\"gif/__out2_3.gif?rand=0.053962\" width=\"200px\"/><br/><img src=\"gif/__truth3.gif?rand=0.368131\" width=\"200px\"/><br/>"
      ],
      "text/plain": [
       "<IPython.core.display.HTML object>"
      ]
     },
     "execution_count": 13,
     "metadata": {},
     "output_type": "execute_result"
    }
   ],
   "source": [
    "# 10-test\n",
    "\n",
    "for kk in range(10):\n",
    "    itrand += 1\n",
    "    choicesrc = [np.random.randint(nvalid)] * batch_size\n",
    "    choicetgt = [np.random.randint(nvalid)] * batch_size\n",
    "    srcdata = validdata[np.arange(0, batch_size) % 25, choicesrc]\n",
    "    tgtdata = validdata[np.arange(0, batch_size) % 25, choicetgt]\n",
    "    tgtctx = validdata[0, choicetgt]\n",
    "    batch = [srcdata, tgtctx, tgtdata]\n",
    "\n",
    "    L, r1, r2, testouts= sess.run([test.loss, test.recon1, test.recon2, test.out], {tfinput: batch, tftrain: False})\n",
    "\n",
    "\n",
    "    L, r1, r2, testouts2= sess.run([test.loss, test.recon1, test.recon2, test.out2], {tfinput: batch, tftrain: False})\n",
    "\n",
    "\n",
    "    print(L, r1, r2)"
   ]
  },
  {
   "cell_type": "code",
   "execution_count": 204,
   "metadata": {
    "scrolled": true
   },
   "outputs": [
    {
     "name": "stdout",
     "output_type": "stream",
     "text": [
      "0\n"
     ]
    }
   ],
   "source": [
    "# Calculating feature importance\n",
    "feats = []\n",
    "for i in range(nvalid):\n",
    "    if i % 100 == 0:\n",
    "        print(i)\n",
    "    choicesrc = [i] * batch_size\n",
    "    choicetgt = [1] * batch_size\n",
    "    srcdata = validdata[np.arange(0, batch_size) % nlen, choicesrc]\n",
    "    tgtdata = validdata[np.arange(0, batch_size) % nlen, choicetgt]\n",
    "    tgtctx = validdata[0, choicetgt]\n",
    "    batch = [srcdata, tgtctx, tgtdata]\n",
    "    feats.append(sess.run( test.translated_z, \n",
    "        {tftrain: False, tfinput: batch, keep_prob:1.0})[:nlen])"
   ]
  }
 ],
 "metadata": {
  "kernelspec": {
   "display_name": "Python 3",
   "language": "python",
   "name": "python3"
  },
  "language_info": {
   "codemirror_mode": {
    "name": "ipython",
    "version": 3
   },
   "file_extension": ".py",
   "mimetype": "text/x-python",
   "name": "python",
   "nbconvert_exporter": "python",
   "pygments_lexer": "ipython3",
   "version": "3.9.5"
  },
  "widgets": {
   "state": {},
   "version": "1.1.2"
  }
 },
 "nbformat": 4,
 "nbformat_minor": 2
}
